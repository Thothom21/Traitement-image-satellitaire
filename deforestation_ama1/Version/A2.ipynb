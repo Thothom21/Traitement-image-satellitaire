{
 "cells": [
  {
   "cell_type": "code",
   "execution_count": 1,
   "metadata": {},
   "outputs": [
    {
     "name": "stdout",
     "output_type": "stream",
     "text": [
      "Requirement already satisfied: openpyxl in c:\\users\\bauma\\appdata\\local\\programs\\python\\python311\\lib\\site-packages (3.1.2)\n",
      "Requirement already satisfied: et-xmlfile in c:\\users\\bauma\\appdata\\local\\programs\\python\\python311\\lib\\site-packages (from openpyxl) (1.1.0)\n",
      "Note: you may need to restart the kernel to use updated packages.\n"
     ]
    }
   ],
   "source": [
    "\n",
    "import cv2\n",
    "import numpy as np\n",
    "\n",
    "def highlight_green_areas(input_image_path, output_image_path, lower_green, upper_green):\n",
    "    # Charger l'image d'entrée\n",
    "    image = cv2.imread(input_image_path)\n",
    "\n",
    "    # Convertir l'image en format HSV (teinte, saturation, valeur)\n",
    "    hsv_image = cv2.cvtColor(image, cv2.COLOR_BGR2HSV)\n",
    "\n",
    "    # Définir la plage de couleurs verte que vous souhaitez détecter\n",
    "    lower_green = np.array(lower_green)\n",
    "    upper_green = np.array(upper_green)\n",
    "\n",
    "    # Créer un masque pour les pixels verts dans la plage spécifiée\n",
    "    mask = cv2.inRange(hsv_image, lower_green, upper_green)\n",
    "\n",
    "    # Appliquer le masque à l'image d'origine\n",
    "    result = cv2.bitwise_and(image, image, mask=mask)\n",
    "\n",
    "    # Enregistrer l'image résultante\n",
    "    cv2.imwrite(output_image_path, result)\n",
    "\n",
    "if __name__ == \"__main__\":\n",
    "    input_image_path = r\"C:\\Users\\bauma\\OneDrive\\Bureau\\esirem_dijon\\traitement\\projet\\deforestation_spot_1986.jpg\"  # Remplacez par le chemin de votre image\n",
    "    output_image_path = r\"C:\\Users\\bauma\\OneDrive\\Bureau\\esirem_dijon\\traitement\\projet\\deforestation_spot_1986_image_mise_en_evidence.jpg\"\n",
    "\n",
    "    # Plage de couleurs verte en format HSV (teinte, saturation, valeur)\n",
    "    lower_green = [35, 50, 50]  # Plage inférieure (vert)\n",
    "    upper_green = [85, 255, 255]  # Plage supérieure (vert)\n",
    "\n",
    "    # Appliquer la fonction pour mettre en évidence les zones vertes\n",
    "    highlight_green_areas(input_image_path, output_image_path, lower_green, upper_green)\n"
   ]
  }
 ],
 "metadata": {
  "kernelspec": {
   "display_name": "base",
   "language": "python",
   "name": "python3"
  },
  "language_info": {
   "codemirror_mode": {
    "name": "ipython",
    "version": 3
   },
   "file_extension": ".py",
   "mimetype": "text/x-python",
   "name": "python",
   "nbconvert_exporter": "python",
   "pygments_lexer": "ipython3",
   "version": "3.11.5"
  },
  "orig_nbformat": 4
 },
 "nbformat": 4,
 "nbformat_minor": 2
}
